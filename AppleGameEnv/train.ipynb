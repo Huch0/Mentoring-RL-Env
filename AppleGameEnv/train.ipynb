{
 "cells": [
  {
   "cell_type": "code",
   "execution_count": null,
   "metadata": {},
   "outputs": [
    {
     "name": "stdout",
     "output_type": "stream",
     "text": [
      "Using cpu device\n",
      "Logging to ./tmp/logs\n"
     ]
    }
   ],
   "source": [
    "import gymnasium as gym\n",
    "from AppleGameEnv import AppleGameEnv\n",
    "from stable_baselines3 import PPO\n",
    "from stable_baselines3.common.callbacks import EvalCallback\n",
    "from stable_baselines3.common.monitor import Monitor\n",
    "from stable_baselines3.common.logger import configure\n",
    "from stable_baselines3.common.env_checker import check_env\n",
    "from stable_baselines3.common.callbacks import CheckpointCallback\n",
    "from stable_baselines3.common.vec_env import DummyVecEnv\n",
    "\n",
    "def train_agent():\n",
    "    \n",
    "    env = DummyVecEnv([lambda: Monitor(AppleGameEnv(m=36, n=36, max_steps=10000))])\n",
    "    model = PPO('CnnPolicy', env, verbose =1)\n",
    "\n",
    "    log_dir = \"./tmp/logs\"\n",
    "    \n",
    "\n",
    "# Separate evaluation env\n",
    "    \n",
    "    eval_env = DummyVecEnv([lambda: Monitor(AppleGameEnv(m=36, n=36, max_steps=10000))])\n",
    "\n",
    "\n",
    "# $ tensorboard --logdir ./examples/tmp/logs/eval 로 tensorboard 실행\n",
    "    new_logger = configure(log_dir, [\"stdout\", \"csv\", \"tensorboard\"])\n",
    "    model.set_logger(new_logger)\n",
    "\n",
    "# Use deterministic actions for evaluation\n",
    "    eval_callback = EvalCallback(eval_env, best_model_save_path=log_dir,\n",
    "                                log_path=log_dir, eval_freq=500, n_eval_episodes=5,\n",
    "                                deterministic=True, render=False)\n",
    "\n",
    "    model.learn(total_timesteps=10000, callback=eval_callback)\n",
    "\n",
    "    #checkpoint_callback = CheckpointCallback(save_freq=1000, save_path=\"./agents/\",name_prefix='ppo_apple_game')\n",
    "\n",
    "    #model.learn(total_timesteps=100000,callback=checkpoint_callback)\n",
    "\n",
    "    model.save(log_dir + \"/ppo_apple_game\")\n",
    "\n",
    "if __name__ == '__main__':\n",
    "    train_agent()\n",
    "    "
   ]
  }
 ],
 "metadata": {
  "kernelspec": {
   "display_name": ".venv",
   "language": "python",
   "name": "python3"
  },
  "language_info": {
   "codemirror_mode": {
    "name": "ipython",
    "version": 3
   },
   "file_extension": ".py",
   "mimetype": "text/x-python",
   "name": "python",
   "nbconvert_exporter": "python",
   "pygments_lexer": "ipython3",
   "version": "3.12.6"
  }
 },
 "nbformat": 4,
 "nbformat_minor": 2
}
